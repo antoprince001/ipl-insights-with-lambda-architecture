{
 "cells": [
  {
   "cell_type": "code",
   "execution_count": 1,
   "metadata": {},
   "outputs": [
    {
     "name": "stdout",
     "output_type": "stream",
     "text": [
      "24/05/21 11:36:49 WARN Utils: Your hostname, Antonys-MacBook-Pro.local resolves to a loopback address: 127.0.0.1; using 192.168.1.10 instead (on interface en0)\n",
      "24/05/21 11:36:49 WARN Utils: Set SPARK_LOCAL_IP if you need to bind to another address\n"
     ]
    },
    {
     "name": "stderr",
     "output_type": "stream",
     "text": [
      "Setting default log level to \"WARN\".\n",
      "To adjust logging level use sc.setLogLevel(newLevel). For SparkR, use setLogLevel(newLevel).\n"
     ]
    },
    {
     "name": "stdout",
     "output_type": "stream",
     "text": [
      "24/05/21 11:36:49 WARN NativeCodeLoader: Unable to load native-hadoop library for your platform... using builtin-java classes where applicable\n"
     ]
    }
   ],
   "source": [
    "from pyspark.sql import SparkSession\n",
    "spark = SparkSession.builder.appName('com.spark-ipl-analysis').getOrCreate()"
   ]
  },
  {
   "cell_type": "code",
   "execution_count": 2,
   "metadata": {},
   "outputs": [],
   "source": [
    "ipl_df = spark.read.format(\"csv\").option(\"header\",\"true\").option(\"inferSchema\",\"true\").load('../ipl_data.csv')"
   ]
  },
  {
   "cell_type": "code",
   "execution_count": 3,
   "metadata": {},
   "outputs": [
    {
     "data": {
      "text/plain": [
       "[Row(match_id=335982, season='2007/08', start_date=datetime.datetime(2008, 4, 18, 0, 0), venue='M Chinnaswamy Stadium', innings=1, ball=0.1, batting_team='Kolkata Knight Riders', bowling_team='Royal Challengers Bangalore', striker='SC Ganguly', non_striker='BB McCullum', bowler='P Kumar', runs_off_bat=0, extras=1, wides=None, noballs=None, byes=None, legbyes=1, penalty=None, wicket_type=None, player_dismissed=None, other_wicket_type=None, other_player_dismissed=None),\n",
       " Row(match_id=335982, season='2007/08', start_date=datetime.datetime(2008, 4, 18, 0, 0), venue='M Chinnaswamy Stadium', innings=1, ball=0.2, batting_team='Kolkata Knight Riders', bowling_team='Royal Challengers Bangalore', striker='BB McCullum', non_striker='SC Ganguly', bowler='P Kumar', runs_off_bat=0, extras=0, wides=None, noballs=None, byes=None, legbyes=None, penalty=None, wicket_type=None, player_dismissed=None, other_wicket_type=None, other_player_dismissed=None),\n",
       " Row(match_id=335982, season='2007/08', start_date=datetime.datetime(2008, 4, 18, 0, 0), venue='M Chinnaswamy Stadium', innings=1, ball=0.3, batting_team='Kolkata Knight Riders', bowling_team='Royal Challengers Bangalore', striker='BB McCullum', non_striker='SC Ganguly', bowler='P Kumar', runs_off_bat=0, extras=1, wides=1, noballs=None, byes=None, legbyes=None, penalty=None, wicket_type=None, player_dismissed=None, other_wicket_type=None, other_player_dismissed=None),\n",
       " Row(match_id=335982, season='2007/08', start_date=datetime.datetime(2008, 4, 18, 0, 0), venue='M Chinnaswamy Stadium', innings=1, ball=0.4, batting_team='Kolkata Knight Riders', bowling_team='Royal Challengers Bangalore', striker='BB McCullum', non_striker='SC Ganguly', bowler='P Kumar', runs_off_bat=0, extras=0, wides=None, noballs=None, byes=None, legbyes=None, penalty=None, wicket_type=None, player_dismissed=None, other_wicket_type=None, other_player_dismissed=None),\n",
       " Row(match_id=335982, season='2007/08', start_date=datetime.datetime(2008, 4, 18, 0, 0), venue='M Chinnaswamy Stadium', innings=1, ball=0.5, batting_team='Kolkata Knight Riders', bowling_team='Royal Challengers Bangalore', striker='BB McCullum', non_striker='SC Ganguly', bowler='P Kumar', runs_off_bat=0, extras=0, wides=None, noballs=None, byes=None, legbyes=None, penalty=None, wicket_type=None, player_dismissed=None, other_wicket_type=None, other_player_dismissed=None),\n",
       " Row(match_id=335982, season='2007/08', start_date=datetime.datetime(2008, 4, 18, 0, 0), venue='M Chinnaswamy Stadium', innings=1, ball=0.6, batting_team='Kolkata Knight Riders', bowling_team='Royal Challengers Bangalore', striker='BB McCullum', non_striker='SC Ganguly', bowler='P Kumar', runs_off_bat=0, extras=0, wides=None, noballs=None, byes=None, legbyes=None, penalty=None, wicket_type=None, player_dismissed=None, other_wicket_type=None, other_player_dismissed=None),\n",
       " Row(match_id=335982, season='2007/08', start_date=datetime.datetime(2008, 4, 18, 0, 0), venue='M Chinnaswamy Stadium', innings=1, ball=0.7, batting_team='Kolkata Knight Riders', bowling_team='Royal Challengers Bangalore', striker='BB McCullum', non_striker='SC Ganguly', bowler='P Kumar', runs_off_bat=0, extras=1, wides=None, noballs=None, byes=None, legbyes=1, penalty=None, wicket_type=None, player_dismissed=None, other_wicket_type=None, other_player_dismissed=None),\n",
       " Row(match_id=335982, season='2007/08', start_date=datetime.datetime(2008, 4, 18, 0, 0), venue='M Chinnaswamy Stadium', innings=1, ball=1.1, batting_team='Kolkata Knight Riders', bowling_team='Royal Challengers Bangalore', striker='BB McCullum', non_striker='SC Ganguly', bowler='Z Khan', runs_off_bat=0, extras=0, wides=None, noballs=None, byes=None, legbyes=None, penalty=None, wicket_type=None, player_dismissed=None, other_wicket_type=None, other_player_dismissed=None),\n",
       " Row(match_id=335982, season='2007/08', start_date=datetime.datetime(2008, 4, 18, 0, 0), venue='M Chinnaswamy Stadium', innings=1, ball=1.2, batting_team='Kolkata Knight Riders', bowling_team='Royal Challengers Bangalore', striker='BB McCullum', non_striker='SC Ganguly', bowler='Z Khan', runs_off_bat=4, extras=0, wides=None, noballs=None, byes=None, legbyes=None, penalty=None, wicket_type=None, player_dismissed=None, other_wicket_type=None, other_player_dismissed=None),\n",
       " Row(match_id=335982, season='2007/08', start_date=datetime.datetime(2008, 4, 18, 0, 0), venue='M Chinnaswamy Stadium', innings=1, ball=1.3, batting_team='Kolkata Knight Riders', bowling_team='Royal Challengers Bangalore', striker='BB McCullum', non_striker='SC Ganguly', bowler='Z Khan', runs_off_bat=4, extras=0, wides=None, noballs=None, byes=None, legbyes=None, penalty=None, wicket_type=None, player_dismissed=None, other_wicket_type=None, other_player_dismissed=None)]"
      ]
     },
     "execution_count": 3,
     "metadata": {},
     "output_type": "execute_result"
    }
   ],
   "source": [
    "ipl_df.head(10)"
   ]
  },
  {
   "cell_type": "code",
   "execution_count": 7,
   "metadata": {},
   "outputs": [
    {
     "data": {
      "text/plain": [
       "[Row(match_id=335982, innings=1, sum(runs_off_bat)=205),\n",
       " Row(match_id=335982, innings=2, sum(runs_off_bat)=63)]"
      ]
     },
     "execution_count": 7,
     "metadata": {},
     "output_type": "execute_result"
    },
    {
     "name": "stdout",
     "output_type": "stream",
     "text": [
      "24/05/21 14:24:26 WARN HeartbeatReceiver: Removing executor driver with no recent heartbeats: 714686 ms exceeds timeout 120000 ms\n",
      "24/05/21 14:24:26 WARN SparkContext: Killing executors is not supported by current scheduler.\n"
     ]
    }
   ],
   "source": [
    "ipl_df.groupBy('match_id','innings').sum('runs_off_bat').head(2)"
   ]
  },
  {
   "cell_type": "markdown",
   "metadata": {},
   "source": [
    "#### Batsman analysis"
   ]
  },
  {
   "cell_type": "code",
   "execution_count": 8,
   "metadata": {},
   "outputs": [],
   "source": [
    "batsman_score_df = ipl_df.groupBy('striker').sum('runs_off_bat')"
   ]
  },
  {
   "cell_type": "code",
   "execution_count": 9,
   "metadata": {},
   "outputs": [
    {
     "data": {
      "text/plain": [
       "[Row(striker='Mohammad Hafeez', sum(runs_off_bat)=5),\n",
       " Row(striker='RT Ponting', sum(runs_off_bat)=20),\n",
       " Row(striker='R Dravid', sum(runs_off_bat)=2),\n",
       " Row(striker='SB Joshi', sum(runs_off_bat)=3),\n",
       " Row(striker='JH Kallis', sum(runs_off_bat)=8),\n",
       " Row(striker='DJ Hussey', sum(runs_off_bat)=12),\n",
       " Row(striker='AA Noffke', sum(runs_off_bat)=9),\n",
       " Row(striker='CL White', sum(runs_off_bat)=6),\n",
       " Row(striker='W Jaffer', sum(runs_off_bat)=6),\n",
       " Row(striker='BB McCullum', sum(runs_off_bat)=158)]"
      ]
     },
     "execution_count": 9,
     "metadata": {},
     "output_type": "execute_result"
    },
    {
     "name": "stdout",
     "output_type": "stream",
     "text": [
      "24/05/06 00:30:36 WARN HeartbeatReceiver: Removing executor driver with no recent heartbeats: 1070022 ms exceeds timeout 120000 ms\n",
      "24/05/06 00:30:36 WARN SparkContext: Killing executors is not supported by current scheduler.\n"
     ]
    }
   ],
   "source": [
    "batsman_score_df.head(10)"
   ]
  },
  {
   "cell_type": "code",
   "execution_count": null,
   "metadata": {},
   "outputs": [],
   "source": []
  }
 ],
 "metadata": {
  "kernelspec": {
   "display_name": "venv",
   "language": "python",
   "name": "python3"
  },
  "language_info": {
   "codemirror_mode": {
    "name": "ipython",
    "version": 3
   },
   "file_extension": ".py",
   "mimetype": "text/x-python",
   "name": "python",
   "nbconvert_exporter": "python",
   "pygments_lexer": "ipython3",
   "version": "3.10.13"
  }
 },
 "nbformat": 4,
 "nbformat_minor": 2
}
